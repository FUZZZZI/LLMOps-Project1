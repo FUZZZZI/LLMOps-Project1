{
 "cells": [
  {
   "cell_type": "markdown",
   "metadata": {},
   "source": [
    "# Documents Summarizer"
   ]
  },
  {
   "cell_type": "code",
   "execution_count": 2,
   "metadata": {},
   "outputs": [],
   "source": [
    "from crewai import Crew, Agent, Task, LLM, Process\n",
    "from crewai_tools import FileReadTool"
   ]
  },
  {
   "cell_type": "markdown",
   "metadata": {},
   "source": [
    "### LLMs"
   ]
  },
  {
   "cell_type": "code",
   "execution_count": 3,
   "metadata": {},
   "outputs": [],
   "source": [
    "summarizer_llm = LLM(\n",
    "    model=\"gpt-4\",\n",
    "    temperature=0.7,  # Balanced creativity for summarization\n",
    "    max_tokens=500    # Limit the output length\n",
    ")\n",
    "\n",
    "manager_llm = LLM(\n",
    "    model=\"gpt-4\",\n",
    "    temperature=0.3,  # Factual and deterministic\n",
    "    max_tokens=200    # Short feedback or approval responses\n",
    ")"
   ]
  },
  {
   "cell_type": "markdown",
   "metadata": {},
   "source": [
    "### Tools"
   ]
  },
  {
   "cell_type": "code",
   "execution_count": 4,
   "metadata": {},
   "outputs": [],
   "source": [
    "file_read_tool = FileReadTool()"
   ]
  },
  {
   "cell_type": "markdown",
   "metadata": {},
   "source": [
    "### Agents"
   ]
  },
  {
   "cell_type": "code",
   "execution_count": 6,
   "metadata": {},
   "outputs": [],
   "source": [
    "# Summarizer Agent\n",
    "summarizer = Agent(\n",
    "    role=\"Text Summarizer\",\n",
    "    goal=\"Summarize the text in the file {path_to_file} into a concise and coherent summary.\",\n",
    "    backstory=\"A highly skilled summarizer specialized in condensing long texts.\",\n",
    "    tools=[file_read_tool],\n",
    "    llm=summarizer_llm,\n",
    "    verbose=True,\n",
    ")\n",
    "\n",
    "# Manager Agent\n",
    "manager = Agent(\n",
    "    role=\"Content Quality Manager\",\n",
    "    goal=\"Ensure that the summary provided is realistic and meets quality standards.\",\n",
    "    backstory=\"An experienced manager skilled in evaluating text summaries.\",\n",
    "    llm=manager_llm,\n",
    "    verbose=True,\n",
    ")"
   ]
  },
  {
   "cell_type": "markdown",
   "metadata": {},
   "source": [
    "### Tasks"
   ]
  },
  {
   "cell_type": "code",
   "execution_count": 7,
   "metadata": {},
   "outputs": [],
   "source": [
    "# Summarizer Task\n",
    "summarize_task = Task(\n",
    "    name=\"Summarize Text Task\",\n",
    "    agent=summarizer,\n",
    "    description=\"Read the given text file and generate a concise summary.\",\n",
    "    expected_output=\"A brief and coherent summary of the text.\"\n",
    ")\n",
    "\n",
    "# Manager Task\n",
    "validate_task = Task(\n",
    "    name=\"Validate Summary Task\",\n",
    "    agent=manager,\n",
    "    description=(\n",
    "        \"Evaluate the summary for realism and coherence. \"\n",
    "        \"If it lacks realism or clarity, request a revision from the Summarizer.\"\n",
    "    ),\n",
    "    expected_output=\"Approval or specific feedback for improvement.\"\n",
    ")"
   ]
  },
  {
   "cell_type": "markdown",
   "metadata": {},
   "source": [
    "### Crew"
   ]
  },
  {
   "cell_type": "code",
   "execution_count": 8,
   "metadata": {},
   "outputs": [],
   "source": [
    "crew = Crew(\n",
    "    agents=[summarizer],\n",
    "    tasks=[summarize_task],\n",
    "    process=Process.hierarchical,\n",
    "    manager_agent=manager\n",
    ")"
   ]
  },
  {
   "cell_type": "markdown",
   "metadata": {},
   "source": [
    "### Main"
   ]
  },
  {
   "cell_type": "code",
   "execution_count": null,
   "metadata": {},
   "outputs": [
    {
     "name": "stdout",
     "output_type": "stream",
     "text": [
      "\u001b[1m\u001b[95m# Agent:\u001b[00m \u001b[1m\u001b[92mContent Quality Manager\u001b[00m\n",
      "\u001b[95m## Task:\u001b[00m \u001b[92mRead the given text file and generate a concise summary.\u001b[00m\n"
     ]
    }
   ],
   "source": [
    "result = crew.kickoff(inputs={\"path_to_file\": \"src/sample_text.txt\"})\n",
    "print(\"Final Output:\")\n",
    "print(result)"
   ]
  }
 ],
 "metadata": {
  "kernelspec": {
   "display_name": "venv",
   "language": "python",
   "name": "python3"
  },
  "language_info": {
   "codemirror_mode": {
    "name": "ipython",
    "version": 3
   },
   "file_extension": ".py",
   "mimetype": "text/x-python",
   "name": "python",
   "nbconvert_exporter": "python",
   "pygments_lexer": "ipython3",
   "version": "3.12.0"
  }
 },
 "nbformat": 4,
 "nbformat_minor": 2
}
