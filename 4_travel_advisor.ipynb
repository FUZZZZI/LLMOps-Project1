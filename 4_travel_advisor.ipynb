{
 "cells": [
  {
   "cell_type": "markdown",
   "metadata": {},
   "source": [
    "# Dynamic Travel Advisor"
   ]
  },
  {
   "cell_type": "code",
   "execution_count": 4,
   "metadata": {},
   "outputs": [],
   "source": [
    "from crewai import Agent, Task, LLM, Crew\n",
    "from pydantic import BaseModel, Field\n",
    "from typing import List\n",
    "from crewai.flow.flow import Flow, start, listen, router"
   ]
  },
  {
   "cell_type": "markdown",
   "metadata": {},
   "source": [
    "## Use gpt-4"
   ]
  },
  {
   "cell_type": "code",
   "execution_count": 5,
   "metadata": {},
   "outputs": [],
   "source": [
    "llm = LLM(model=\"gpt-4\")"
   ]
  },
  {
   "cell_type": "markdown",
   "metadata": {},
   "source": [
    "## Agents"
   ]
  },
  {
   "cell_type": "code",
   "execution_count": 6,
   "metadata": {},
   "outputs": [],
   "source": [
    "# Travel Planner Agent\n",
    "planner_agent = Agent(\n",
    "    llm=llm,\n",
    "    role=\"Travel Planner\",\n",
    "    backstory=\"An expert in planning group vacations, considering budgets, destinations, and activities.\",\n",
    "    goal=\"Create a vacation plan based on traveler names, departure city, and destination.\",\n",
    "    verbose=True,\n",
    ")\n",
    "\n",
    "# Travel Validator Agent\n",
    "validator_agent = Agent(\n",
    "    llm=llm,\n",
    "    role=\"Travel Plan Validator\",\n",
    "    backstory=\"An experienced travel advisor who ensures all plans meet safety, budget, and feasibility constraints.\",\n",
    "    goal=\"Evaluate vacation plans and validate if they meet predefined constraints.\",\n",
    "    verbose=True,\n",
    ")"
   ]
  },
  {
   "cell_type": "markdown",
   "metadata": {},
   "source": [
    "## Tasks"
   ]
  },
  {
   "cell_type": "code",
   "execution_count": 7,
   "metadata": {},
   "outputs": [],
   "source": [
    "def create_vacation_plan_task(names, city, destination) -> Task:\n",
    "    return Task(\n",
    "        description=(\n",
    "            f\"Create a detailed vacation plan for the following travelers: {', '.join(names)}, \"\n",
    "            f\"departing from {city} to {destination}. Ensure the plan includes \"\n",
    "            f\"activities, accommodation, and estimated costs.\"\n",
    "        ),\n",
    "        expected_output=\"A detailed vacation plan including activities, accommodation, and costs.\",\n",
    "        agent=planner_agent,\n",
    "    )\n",
    "\n",
    "\n",
    "def validate_vacation_plan_task(vacation_plan) -> Task:\n",
    "    return Task(\n",
    "        description=(\n",
    "            f\"Evaluate the following vacation plan: {vacation_plan}. \"\n",
    "            f\"Ensure it meets the following constraints: budget-friendly, includes at least two activities, \"\n",
    "            f\"and has clear accommodation details. Reply with 'Valid' if it meets the constraints, \"\n",
    "            f\"otherwise reply with 'Invalid'.\"\n",
    "        ),\n",
    "        expected_output=\"Valid or Invalid.\",\n",
    "        agent=validator_agent,\n",
    "    )"
   ]
  },
  {
   "cell_type": "markdown",
   "metadata": {},
   "source": [
    "## Flow"
   ]
  },
  {
   "cell_type": "code",
   "execution_count": 8,
   "metadata": {},
   "outputs": [],
   "source": [
    "class TravelState(BaseModel):\n",
    "    vacation_plan: str = \"\"\n",
    "    is_plan_valid: bool = False\n",
    "    generation_attempts_left: int = 2"
   ]
  },
  {
   "cell_type": "code",
   "execution_count": 9,
   "metadata": {},
   "outputs": [],
   "source": [
    "class TravelAdvisorFlow(Flow[TravelState]):\n",
    "    names: List[str] = Field(description=\"List of travelers\")\n",
    "    city: str = Field(description=\"Departure city\")\n",
    "    destination: str = Field(description=\"Dest city\")\n",
    "\n",
    "    def __init__(self, names: List[str], city: str, destination: str):\n",
    "        super().__init__()\n",
    "        self.names = names\n",
    "        self.city = city\n",
    "        self.destination = destination\n",
    "\n",
    "    @start()\n",
    "    def generate_vacation_plan(self):\n",
    "        print(\"Generating vacation plan\")\n",
    "        task = create_vacation_plan_task(self.names, self.city, self.destination)\n",
    "        crew = Crew(agents=[planner_agent], tasks=[task])\n",
    "        result = crew.kickoff()\n",
    "        self.state.vacation_plan = result.raw\n",
    "        print(\"Vacation plan generated!\")\n",
    "\n",
    "    @listen(generate_vacation_plan)\n",
    "    def validate_vacation_plan(self):\n",
    "        print(\"Start validation of the plan...\")\n",
    "        task = validate_vacation_plan_task(self.state.vacation_plan)\n",
    "        crew = Crew(agents=[validator_agent], tasks=[task])\n",
    "        result = crew.kickoff()\n",
    "        self.state.is_plan_valid = \"Valid\" in result.raw\n",
    "        print(\"Validation complete\", \"Valid\" if self.state.is_plan_valid else \"Invalid\")\n",
    "\n",
    "    @router(validate_vacation_plan)\n",
    "    def route_vacation_plan(self):\n",
    "        if self.state.is_plan_valid:\n",
    "            return \"valid\"\n",
    "        elif self.state.generation_attempts_left == 0:\n",
    "            return \"not_feasible\"\n",
    "        else:\n",
    "            return \"regenerate\"\n",
    "\n",
    "    @listen(\"valid\")\n",
    "    def finalize_vacation_plan(self):\n",
    "        with open(\"vacation_plan.txt\", \"w\") as file:\n",
    "            file.write(self.state.vacation_plan)\n",
    "        print(\"Vacation plan saved in file\")\n",
    "\n",
    "    @listen(\"regenerate\")\n",
    "    def regenerate_vacation_plan(self):\n",
    "        self.state.generation_attempts_left -= 1\n",
    "        self.generate_vacation_plan()\n",
    "\n",
    "    @listen(\"not_feasible\")\n",
    "    def notify_user(self):\n",
    "        print(\"Plan is not feasible, I'm sorry :(\")\n"
   ]
  },
  {
   "cell_type": "markdown",
   "metadata": {},
   "source": [
    "## Main"
   ]
  },
  {
   "cell_type": "markdown",
   "metadata": {},
   "source": [
    "Note: `nest_asyncio` allows `asyncio.run` to work in Jupyter Notebooks by enabling nested event loops."
   ]
  },
  {
   "cell_type": "code",
   "execution_count": 20,
   "metadata": {},
   "outputs": [
    {
     "name": "stdout",
     "output_type": "stream",
     "text": [
      "Generating vacation plan\n",
      "\u001b[1m\u001b[95m# Agent:\u001b[00m \u001b[1m\u001b[92mTravel Planner\u001b[00m\n",
      "\u001b[95m## Task:\u001b[00m \u001b[92mCreate a detailed vacation plan for the following travelers: Alice, Robert, Charlie, departing from Berlin to Rome. Ensure the plan includes activities, accommodation, and estimated costs.\u001b[00m\n"
     ]
    },
    {
     "name": "stderr",
     "output_type": "stream",
     "text": [
      "Overriding of current TracerProvider is not allowed\n"
     ]
    },
    {
     "name": "stdout",
     "output_type": "stream",
     "text": [
      "\n",
      "\n",
      "\u001b[1m\u001b[95m# Agent:\u001b[00m \u001b[1m\u001b[92mTravel Planner\u001b[00m\n",
      "\u001b[95m## Final Answer:\u001b[00m \u001b[92m\n",
      "Day 1: Departure and Arrival\n",
      "\n",
      "- Depart from Berlin via Lufthansa, flight cost approx. €150 per person.\n",
      "- Arrive in Rome, after the airport transfer, check into Hotel Artemide for €200 per night for a triple occupancy room.\n",
      "- Have a welcome dinner at La Piazzetta restaurant, estimated cost €25 per person.\n",
      "\n",
      "Day 2: Exploring Rome\n",
      "\n",
      "- Breakfast at the hotel, included in the room price.\n",
      "- Take a tour of the Colosseum ($25 per person) and Roman Forum.\n",
      "- Lunch at Trattoria da Valentino, estimated cost €30 per person.\n",
      "- Visit the Pantheon and Trevi Fountain, free admission.\n",
      "- Dinner at Ristorante Il Gabriello, estimated cost €40 per person.\n",
      "\n",
      "Day 3: Vatican City\n",
      "\n",
      "- Breakfast at the hotel.\n",
      "- Visit Vatican City, entrance to the Vatican Museums and Sistine Chapel is €26 per person.\n",
      "- Lunch at Pizzarium Bonci, estimated cost €20 per person.\n",
      "- Visit St. Peter's Basilica, free entry. \n",
      "- Have dinner at Osteria delle Commari, estimated cost €35 per person.\n",
      "\n",
      "Day 4: Leisure Day\n",
      "\n",
      "- Breakfast at the hotel.\n",
      "- Leisure day for shopping or extra activities, like visiting Villa Borghese (€15 per person entry) or relaxing at the hotel.\n",
      "- Farewell dinner at Antica Pesa, estimated at €50 per person.\n",
      "\n",
      "Day 5: Return\n",
      "\n",
      "- Breakfast at the hotel.\n",
      "- Flight from Rome back to Berlin, approx. €150 per person.\n",
      "\n",
      "Estimated total cost per person excluding personal expenses and shopping: €890\n",
      "\n",
      "This plan includes historical sightseeing, leisure activities, gastronomic exploration, and comfortable accommodation offering an immersion into the Roman atmosphere. Please note, the costs are estimates and can vary.\u001b[00m\n",
      "\n",
      "\n",
      "Vacation plan generated!\n",
      "Start validation of the plan...\n",
      "\u001b[1m\u001b[95m# Agent:\u001b[00m \u001b[1m\u001b[92mTravel Plan Validator\u001b[00m\n",
      "\u001b[95m## Task:\u001b[00m \u001b[92mEvaluate the following vacation plan: Day 1: Departure and Arrival\n",
      "\n",
      "- Depart from Berlin via Lufthansa, flight cost approx. €150 per person.\n",
      "- Arrive in Rome, after the airport transfer, check into Hotel Artemide for €200 per night for a triple occupancy room.\n",
      "- Have a welcome dinner at La Piazzetta restaurant, estimated cost €25 per person.\n",
      "\n",
      "Day 2: Exploring Rome\n",
      "\n",
      "- Breakfast at the hotel, included in the room price.\n",
      "- Take a tour of the Colosseum ($25 per person) and Roman Forum.\n",
      "- Lunch at Trattoria da Valentino, estimated cost €30 per person.\n",
      "- Visit the Pantheon and Trevi Fountain, free admission.\n",
      "- Dinner at Ristorante Il Gabriello, estimated cost €40 per person.\n",
      "\n",
      "Day 3: Vatican City\n",
      "\n",
      "- Breakfast at the hotel.\n",
      "- Visit Vatican City, entrance to the Vatican Museums and Sistine Chapel is €26 per person.\n",
      "- Lunch at Pizzarium Bonci, estimated cost €20 per person.\n",
      "- Visit St. Peter's Basilica, free entry. \n",
      "- Have dinner at Osteria delle Commari, estimated cost €35 per person.\n",
      "\n",
      "Day 4: Leisure Day\n",
      "\n",
      "- Breakfast at the hotel.\n",
      "- Leisure day for shopping or extra activities, like visiting Villa Borghese (€15 per person entry) or relaxing at the hotel.\n",
      "- Farewell dinner at Antica Pesa, estimated at €50 per person.\n",
      "\n",
      "Day 5: Return\n",
      "\n",
      "- Breakfast at the hotel.\n",
      "- Flight from Rome back to Berlin, approx. €150 per person.\n",
      "\n",
      "Estimated total cost per person excluding personal expenses and shopping: €890\n",
      "\n",
      "This plan includes historical sightseeing, leisure activities, gastronomic exploration, and comfortable accommodation offering an immersion into the Roman atmosphere. Please note, the costs are estimates and can vary.. Ensure it meets the following constraints: budget-friendly, includes at least two activities, and has clear accommodation details. Reply with 'Valid' if it meets the constraints, otherwise reply with 'Invalid'.\u001b[00m\n",
      "\n",
      "\n",
      "\u001b[1m\u001b[95m# Agent:\u001b[00m \u001b[1m\u001b[92mTravel Plan Validator\u001b[00m\n",
      "\u001b[95m## Final Answer:\u001b[00m \u001b[92m\n",
      "Valid\u001b[00m\n",
      "\n",
      "\n",
      "Validation complete Valid\n",
      "Vacation plan saved in file\n"
     ]
    }
   ],
   "source": [
    "import nest_asyncio\n",
    "nest_asyncio.apply()\n",
    "\n",
    "def kickoff():\n",
    "    names = [\"Alice\", \"Robert\", \"Charlie\"]\n",
    "    city = \"Berlin\"\n",
    "    destination = \"Rome\"\n",
    "\n",
    "    travel_flow = TravelAdvisorFlow(names, city, destination)\n",
    "\n",
    "    travel_flow.kickoff()\n",
    "\n",
    "kickoff()"
   ]
  }
 ],
 "metadata": {
  "kernelspec": {
   "display_name": "venv",
   "language": "python",
   "name": "python3"
  },
  "language_info": {
   "codemirror_mode": {
    "name": "ipython",
    "version": 3
   },
   "file_extension": ".py",
   "mimetype": "text/x-python",
   "name": "python",
   "nbconvert_exporter": "python",
   "pygments_lexer": "ipython3",
   "version": "3.12.0"
  }
 },
 "nbformat": 4,
 "nbformat_minor": 2
}
